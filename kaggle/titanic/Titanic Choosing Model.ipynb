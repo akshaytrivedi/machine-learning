{
 "cells": [
  {
   "cell_type": "code",
   "execution_count": 12,
   "metadata": {
    "collapsed": true
   },
   "outputs": [],
   "source": [
    "import pandas\n",
    "import numpy"
   ]
  },
  {
   "cell_type": "code",
   "execution_count": 13,
   "metadata": {
    "collapsed": true
   },
   "outputs": [],
   "source": [
    "def convert_categorical_input(column_name, data_frame):\n",
    "    categorical_column = data_frame[column_name]\n",
    "    categorical_column_values = categorical_column.unique()\n",
    "    for column_value in categorical_column_values:\n",
    "        data_frame[column_name + '=' + str(column_value)] = data_frame[column_name].map(lambda x: 1 if x == column_value else 0)"
   ]
  },
  {
   "cell_type": "code",
   "execution_count": 17,
   "metadata": {
    "collapsed": true
   },
   "outputs": [],
   "source": [
    "data_frame = pandas.read_csv(\"train.csv\", header = 0)"
   ]
  },
  {
   "cell_type": "code",
   "execution_count": 18,
   "metadata": {
    "collapsed": false
   },
   "outputs": [],
   "source": [
    "data_frame[(data_frame['Embarked'] != 'S') & (data_frame['Embarked'] != 'C') & (data_frame['Embarked'] != 'Q')]\n",
    "data_frame.drop(data_frame.index[[61,829]], inplace=True)\n",
    "\n",
    "data_frame['Age'].median()\n",
    "data_frame['Age'].fillna(28, inplace=True)\n",
    "data_frame['Fare'] = numpy.sqrt(data_frame['Fare'])\n",
    "convert_categorical_input('Sex', data_frame)\n",
    "convert_categorical_input('Embarked', data_frame)"
   ]
  },
  {
   "cell_type": "code",
   "execution_count": 19,
   "metadata": {
    "collapsed": false
   },
   "outputs": [],
   "source": [
    "processed_data = data_frame.drop(['PassengerId','Name','Sex','Ticket','Embarked', 'Cabin'], axis=1)\n",
    "target_value = processed_data['Survived'].copy()\n",
    "processed_data = processed_data.drop(['Survived'],axis=1)"
   ]
  },
  {
   "cell_type": "code",
   "execution_count": 22,
   "metadata": {
    "collapsed": false
   },
   "outputs": [],
   "source": [
    "## NOW WE HAVE TO SPLIT MODEL INTO TRAIN AND TEST SET AND TRAIN ON IT"
   ]
  },
  {
   "cell_type": "code",
   "execution_count": 23,
   "metadata": {
    "collapsed": false
   },
   "outputs": [
    {
     "data": {
      "text/plain": [
       "(889, 10)"
      ]
     },
     "execution_count": 23,
     "metadata": {},
     "output_type": "execute_result"
    }
   ],
   "source": [
    "processed_data.shape"
   ]
  },
  {
   "cell_type": "code",
   "execution_count": 36,
   "metadata": {
    "collapsed": true
   },
   "outputs": [],
   "source": [
    "def cross_validation(model, X, y, k_fold=10, score_function='accuracy'):\n",
    "    from sklearn.cross_validation import cross_val_score\n",
    "    scores = cross_val_score(model, X, y, cv=k_fold, scoring=score_function)\n",
    "    return scores"
   ]
  },
  {
   "cell_type": "code",
   "execution_count": 37,
   "metadata": {
    "collapsed": true
   },
   "outputs": [],
   "source": [
    "def plot_optimal_values(c_values, average_scores):\n",
    "    import matplotlib.pyplot as plt\n",
    "    %matplotlib inline\n",
    "\n",
    "    plt.xscale(\"log\")\n",
    "    plt.plot(c_values, average_scores)\n",
    "    plt.xlabel('Values of c')\n",
    "    plt.ylabel('Mean Accuracy')"
   ]
  },
  {
   "cell_type": "code",
   "execution_count": 38,
   "metadata": {
    "collapsed": true
   },
   "outputs": [],
   "source": [
    "def find_optimal_logistic_regression(X,y,c_values):\n",
    "    average_scores = []\n",
    "    from sklearn import linear_model\n",
    "    for C in c_values:\n",
    "        logistic_regression = linear_model.LogisticRegression(C=C, max_iter=1000, tol=1e-4)\n",
    "        scores = cross_validation(logistic_regression, X, y, k_fold=10, score_function='accuracy')\n",
    "        average_scores.append(scores.mean())\n",
    "    plot_optimal_values(c_values,average_scores)\n",
    "    return average_scores"
   ]
  },
  {
   "cell_type": "code",
   "execution_count": 39,
   "metadata": {
    "collapsed": false
   },
   "outputs": [
    {
     "name": "stdout",
     "output_type": "stream",
     "text": [
      "[0.76272982635342179, 0.79304136874361597, 0.7908197139938713, 0.78969611848825338, 0.78969611848825338]\n"
     ]
    },
    {
     "data": {
      "image/png": "[encoded data removed]",
      "text/plain": [
       "<matplotlib.figure.Figure at 0xb451eb8>"
      ]
     },
     "metadata": {},
     "output_type": "display_data"
    }
   ],
   "source": [
    "average_scores = find_optimal_logistic_regression(processed_data, target_value, c_values = [1e-2, 1e-1, 1, 10, 100])\n",
    "print average_scores"
   ]
  },
  {
   "cell_type": "code",
   "execution_count": 40,
   "metadata": {
    "collapsed": false
   },
   "outputs": [
    {
     "name": "stdout",
     "output_type": "stream",
     "text": [
      "[0.63891726251276815, 0.69964249233912157, 0.76272982635342179, 0.79079417773238003, 0.79304136874361597, 0.7908197139938713]\n"
     ]
    },
    {
     "data": {
      "image/png": "[encoded data removed]",
      "text/plain": [
       "<matplotlib.figure.Figure at 0xb599400>"
      ]
     },
     "metadata": {},
     "output_type": "display_data"
    }
   ],
   "source": [
    "average_scores = find_optimal_logistic_regression(processed_data, target_value, c_values = [1e-4, 1e-3, 1e-2, 0.5e-1, 1e-1, 1])\n",
    "print average_scores"
   ]
  },
  {
   "cell_type": "code",
   "execution_count": 41,
   "metadata": {
    "collapsed": false
   },
   "outputs": [
    {
     "name": "stdout",
     "output_type": "stream",
     "text": [
      "From above model best logistic regression is using 1e-1\n"
     ]
    }
   ],
   "source": [
    "print 'From above model best logistic regression is using 1e-1'"
   ]
  },
  {
   "cell_type": "code",
   "execution_count": 43,
   "metadata": {
    "collapsed": false
   },
   "outputs": [
    {
     "data": {
      "text/plain": [
       "LogisticRegression(C=0.1, class_weight=None, dual=False, fit_intercept=True,\n",
       "          intercept_scaling=1, max_iter=1000, multi_class='ovr', n_jobs=1,\n",
       "          penalty='l2', random_state=None, solver='liblinear', tol=0.0001,\n",
       "          verbose=0, warm_start=False)"
      ]
     },
     "execution_count": 43,
     "metadata": {},
     "output_type": "execute_result"
    }
   ],
   "source": [
    "from sklearn import linear_model\n",
    "logistic_regression = linear_model.LogisticRegression(C=1e-1, max_iter=1000, tol=1e-4)\n",
    "logistic_regression.fit(processed_data, target_value)"
   ]
  },
  {
   "cell_type": "code",
   "execution_count": 45,
   "metadata": {
    "collapsed": true
   },
   "outputs": [],
   "source": [
    "def find_optimal_SVM(X,y,c_values):\n",
    "    average_scores = []\n",
    "    from sklearn import svm\n",
    "    for C in c_values:\n",
    "        SVM = svm.SVC(C=C, tol=1e-4, max_iter=-1)\n",
    "        scores = cross_validation(SVM, X, y, k_fold=10, score_function='accuracy')\n",
    "        average_scores.append(scores.mean())\n",
    "    plot_optimal_values(c_values,average_scores)\n",
    "    return average_scores"
   ]
  },
  {
   "cell_type": "code",
   "execution_count": 46,
   "metadata": {
    "collapsed": false
   },
   "outputs": [
    {
     "name": "stdout",
     "output_type": "stream",
     "text": [
      "[0.61754341164453519, 0.66255107252298251, 0.80209397344228806, 0.79310520939734419, 0.77055669050051068]\n"
     ]
    },
    {
     "data": {
      "image/png": "[encoded data removed]",
      "text/plain": [
       "<matplotlib.figure.Figure at 0xbecf828>"
      ]
     },
     "metadata": {},
     "output_type": "display_data"
    }
   ],
   "source": [
    "average_scores = find_optimal_SVM(processed_data, target_value, c_values = [1e-2, 1e-1, 1, 10, 100])\n",
    "print average_scores"
   ]
  },
  {
   "cell_type": "code",
   "execution_count": 47,
   "metadata": {
    "collapsed": false
   },
   "outputs": [
    {
     "name": "stdout",
     "output_type": "stream",
     "text": [
      "[0.66255107252298251, 0.61754341164453519, 0.74020684371807977, 0.79645045965270689, 0.80209397344228806]\n"
     ]
    },
    {
     "data": {
      "image/png": "[encoded data removed]",
      "text/plain": [
       "<matplotlib.figure.Figure at 0x3fcd518>"
      ]
     },
     "metadata": {},
     "output_type": "display_data"
    }
   ],
   "source": [
    "average_scores = find_optimal_SVM(processed_data, target_value, c_values = [1e-1, 0.5e-1, 0.2, 0.5, 1])\n",
    "print average_scores"
   ]
  },
  {
   "cell_type": "code",
   "execution_count": 48,
   "metadata": {
    "collapsed": false
   },
   "outputs": [
    {
     "name": "stdout",
     "output_type": "stream",
     "text": [
      "[0.80209397344228806, 0.80209397344228806, 0.79984678243105201, 0.80209397344228806, 0.79195607763023479]\n"
     ]
    },
    {
     "data": {
      "image/png": "[encoded data removed]",
      "text/plain": [
       "<matplotlib.figure.Figure at 0xc4f5400>"
      ]
     },
     "metadata": {},
     "output_type": "display_data"
    }
   ],
   "source": [
    "average_scores = find_optimal_SVM(processed_data, target_value, c_values = [1, 1.2, 1.5, 2, 5])\n",
    "print average_scores"
   ]
  },
  {
   "cell_type": "code",
   "execution_count": 50,
   "metadata": {
    "collapsed": false
   },
   "outputs": [
    {
     "name": "stdout",
     "output_type": "stream",
     "text": [
      "The best value of C is 1\n"
     ]
    },
    {
     "data": {
      "text/plain": [
       "SVC(C=1, cache_size=200, class_weight=None, coef0=0.0,\n",
       "  decision_function_shape=None, degree=3, gamma='auto', kernel='rbf',\n",
       "  max_iter=-1, probability=False, random_state=None, shrinking=True,\n",
       "  tol=0.0001, verbose=False)"
      ]
     },
     "execution_count": 50,
     "metadata": {},
     "output_type": "execute_result"
    }
   ],
   "source": [
    "print 'The best value of C is 1'\n",
    "from sklearn import svm\n",
    "SVM = svm.SVC(C=1, tol=1e-4, max_iter=-1)\n",
    "SVM.fit(processed_data, target_value)"
   ]
  },
  {
   "cell_type": "code",
   "execution_count": 52,
   "metadata": {
    "collapsed": false
   },
   "outputs": [],
   "source": [
    "test_data = pandas.read_csv(\"test.csv\", header = 0)\n",
    "\n",
    "convert_categorical_input('Sex', test_data)\n",
    "convert_categorical_input('Embarked', test_data)\n",
    "\n",
    "processed_test_data = test_data.drop(['PassengerId','Name','Sex','Ticket','Embarked', 'Cabin'], axis=1)\n",
    "\n",
    "processed_test_data['Fare'] = numpy.sqrt(processed_test_data['Fare'])\n",
    "\n",
    "processed_test_data['Age'].fillna(28, inplace=True)\n",
    "\n",
    "processed_test_data['Fare'].fillna(2.8, inplace=True)"
   ]
  },
  {
   "cell_type": "code",
   "execution_count": 54,
   "metadata": {
    "collapsed": false
   },
   "outputs": [],
   "source": [
    "def output_data(test_data, predictions, filename):\n",
    "    output = pandas.DataFrame({'PassengerId' : test_data['PassengerId'],\n",
    "                               'Survived'    : predictions})\n",
    "    output.to_csv(filename,index=False)"
   ]
  },
  {
   "cell_type": "code",
   "execution_count": 55,
   "metadata": {
    "collapsed": true
   },
   "outputs": [],
   "source": [
    "predictions = logistic_regression.predict(processed_test_data)\n",
    "output_data(test_data, predictions, \"best_logistic_regression.csv\")"
   ]
  },
  {
   "cell_type": "code",
   "execution_count": 56,
   "metadata": {
    "collapsed": true
   },
   "outputs": [],
   "source": [
    "predictions = SVM.predict(processed_test_data)\n",
    "output_data(test_data, predictions, \"best_SVM.csv\")"
   ]
  },
  {
   "cell_type": "code",
   "execution_count": null,
   "metadata": {
    "collapsed": true
   },
   "outputs": [],
   "source": []
  }
 ],
 "metadata": {
  "kernelspec": {
   "display_name": "Python 2",
   "language": "python",
   "name": "python2"
  },
  "language_info": {
   "codemirror_mode": {
    "name": "ipython",
    "version": 2
   },
   "file_extension": ".py",
   "mimetype": "text/x-python",
   "name": "python",
   "nbconvert_exporter": "python",
   "pygments_lexer": "ipython2",
   "version": "2.7.11"
  }
 },
 "nbformat": 4,
 "nbformat_minor": 0
}
