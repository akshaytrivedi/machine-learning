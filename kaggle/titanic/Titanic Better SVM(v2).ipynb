{
 "cells": [
  {
   "cell_type": "code",
   "execution_count": 1,
   "metadata": {
    "collapsed": true
   },
   "outputs": [],
   "source": [
    "import pandas\n",
    "import numpy"
   ]
  },
  {
   "cell_type": "code",
   "execution_count": 2,
   "metadata": {
    "collapsed": true
   },
   "outputs": [],
   "source": [
    "def convert_categorical_input(column_name, data_frame):\n",
    "    categorical_column = data_frame[column_name]\n",
    "    categorical_column_values = categorical_column.unique()\n",
    "    for column_value in categorical_column_values:\n",
    "        data_frame[column_name + '=' + str(column_value)] = data_frame[column_name].map(lambda x: 1 if x == column_value else 0)"
   ]
  },
  {
   "cell_type": "code",
   "execution_count": 3,
   "metadata": {
    "collapsed": false
   },
   "outputs": [],
   "source": [
    "data_frame = pandas.read_csv(\"train.csv\", header = 0)"
   ]
  },
  {
   "cell_type": "code",
   "execution_count": 4,
   "metadata": {
    "collapsed": true
   },
   "outputs": [],
   "source": [
    "data_frame[(data_frame['Embarked'] != 'S') & (data_frame['Embarked'] != 'C') & (data_frame['Embarked'] != 'Q')]\n",
    "data_frame.drop(data_frame.index[[61,829]], inplace=True)\n",
    "\n",
    "data_frame['Age'].median()\n",
    "data_frame['Age'].fillna(28, inplace=True)\n",
    "data_frame['Fare'] = numpy.sqrt(data_frame['Fare'])\n",
    "convert_categorical_input('Sex', data_frame)\n",
    "convert_categorical_input('Embarked', data_frame)"
   ]
  },
  {
   "cell_type": "code",
   "execution_count": 5,
   "metadata": {
    "collapsed": true
   },
   "outputs": [],
   "source": [
    "processed_data = data_frame.drop(['PassengerId','Name','Sex','Ticket','Embarked', 'Cabin'], axis=1)\n",
    "target_value = processed_data['Survived'].copy()\n",
    "processed_data = processed_data.drop(['Survived'],axis=1)"
   ]
  },
  {
   "cell_type": "code",
   "execution_count": 6,
   "metadata": {
    "collapsed": false
   },
   "outputs": [
    {
     "data": {
      "text/plain": [
       "(889, 10)"
      ]
     },
     "execution_count": 6,
     "metadata": {},
     "output_type": "execute_result"
    }
   ],
   "source": [
    "processed_data.shape"
   ]
  },
  {
   "cell_type": "code",
   "execution_count": 7,
   "metadata": {
    "collapsed": true
   },
   "outputs": [],
   "source": [
    "## Now we are ready to play"
   ]
  },
  {
   "cell_type": "code",
   "execution_count": 8,
   "metadata": {
    "collapsed": true
   },
   "outputs": [],
   "source": [
    "start_value_C = 1e-5\n",
    "end_value_C = 100\n",
    "multiple_C = 10\n",
    "c = start_value_C\n",
    "C=[]\n",
    "while(c<=end_value_C):\n",
    "    C.append(c)\n",
    "    c = c * multiple_C"
   ]
  },
  {
   "cell_type": "code",
   "execution_count": 9,
   "metadata": {
    "collapsed": false
   },
   "outputs": [],
   "source": [
    "kernel = ['rbf', 'linear']"
   ]
  },
  {
   "cell_type": "code",
   "execution_count": 10,
   "metadata": {
    "collapsed": true
   },
   "outputs": [],
   "source": [
    "start_value_gamma = 1e-5\n",
    "end_value_gamma = 1\n",
    "multiple_gamma = 10\n",
    "g = start_value_gamma\n",
    "gamma=[]\n",
    "while(g<=end_value_gamma):\n",
    "    gamma.append(g)\n",
    "    g = g * multiple_gamma"
   ]
  },
  {
   "cell_type": "code",
   "execution_count": null,
   "metadata": {
    "collapsed": false
   },
   "outputs": [],
   "source": [
    "param_grid = dict(C=C, kernel=kernel, gamma=gamma)"
   ]
  },
  {
   "cell_type": "code",
   "execution_count": null,
   "metadata": {
    "collapsed": false
   },
   "outputs": [],
   "source": [
    "from sklearn.grid_search import GridSearchCV\n",
    "from sklearn.svm import SVC\n",
    "grid = GridSearchCV(SVC(C=1), param_grid, cv=300, scoring='accuracy')\n",
    "grid.fit(processed_data, target_value)"
   ]
  },
  {
   "cell_type": "code",
   "execution_count": null,
   "metadata": {
    "collapsed": true
   },
   "outputs": [],
   "source": []
  }
 ],
 "metadata": {
  "kernelspec": {
   "display_name": "Python 2",
   "language": "python",
   "name": "python2"
  },
  "language_info": {
   "codemirror_mode": {
    "name": "ipython",
    "version": 2
   },
   "file_extension": ".py",
   "mimetype": "text/x-python",
   "name": "python",
   "nbconvert_exporter": "python",
   "pygments_lexer": "ipython2",
   "version": "2.7.11"
  }
 },
 "nbformat": 4,
 "nbformat_minor": 2
}
